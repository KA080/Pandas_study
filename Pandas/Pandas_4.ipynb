{
 "cells": [
  {
   "cell_type": "code",
   "execution_count": 1,
   "metadata": {},
   "outputs": [
    {
     "data": {
      "text/plain": [
       "'판다스 시리즈 추가/삭제/수정'"
      ]
     },
     "execution_count": 1,
     "metadata": {},
     "output_type": "execute_result"
    }
   ],
   "source": [
    "\"\"\"판다스 시리즈 추가/삭제/수정\"\"\""
   ]
  },
  {
   "cell_type": "code",
   "execution_count": 2,
   "metadata": {},
   "outputs": [
    {
     "name": "stdout",
     "output_type": "stream",
     "text": [
      "월    100\n",
      "화    200\n",
      "수    300\n",
      "목    400\n",
      "dtype: int64\n"
     ]
    }
   ],
   "source": [
    "from pandas import Series\n",
    "\n",
    "data = [100,200,300]\n",
    "index = [\"월\",\"화\",\"수\"]\n",
    "s = Series(data,index)\n",
    "\n",
    "s.loc[\"목\"] = 400\n",
    "print(s)"
   ]
  },
  {
   "cell_type": "code",
   "execution_count": 3,
   "metadata": {},
   "outputs": [
    {
     "name": "stdout",
     "output_type": "stream",
     "text": [
      "화    200\n",
      "수    300\n",
      "dtype: int64\n",
      "월    100\n",
      "화    200\n",
      "수    300\n",
      "dtype: int64\n"
     ]
    }
   ],
   "source": [
    "from pandas import Series\n",
    "\n",
    "data = [100,200,300]\n",
    "index = [\"월\",\"화\",\"수\"]\n",
    "s = Series(data,index)\n",
    "\n",
    "s1 = s.drop(\"월\")\n",
    "print(s1)\n",
    "print(s)"
   ]
  },
  {
   "cell_type": "code",
   "execution_count": 5,
   "metadata": {},
   "outputs": [
    {
     "name": "stdout",
     "output_type": "stream",
     "text": [
      "월    1000\n",
      "화     200\n",
      "수    3000\n",
      "dtype: int64\n"
     ]
    }
   ],
   "source": [
    "from pandas import Series\n",
    "\n",
    "data = [100,200,300]\n",
    "index = [\"월\",\"화\",\"수\"]\n",
    "s = Series(data,index)\n",
    "\n",
    "s.iloc[0] = 1000\n",
    "s.loc[\"수\"] = 3000\n",
    "\n",
    "print(s)"
   ]
  }
 ],
 "metadata": {
  "kernelspec": {
   "display_name": "study",
   "language": "python",
   "name": "python3"
  },
  "language_info": {
   "codemirror_mode": {
    "name": "ipython",
    "version": 3
   },
   "file_extension": ".py",
   "mimetype": "text/x-python",
   "name": "python",
   "nbconvert_exporter": "python",
   "pygments_lexer": "ipython3",
   "version": "3.8.0"
  }
 },
 "nbformat": 4,
 "nbformat_minor": 2
}
