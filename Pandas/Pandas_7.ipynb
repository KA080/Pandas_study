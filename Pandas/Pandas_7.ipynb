{
 "cells": [
  {
   "cell_type": "code",
   "execution_count": 1,
   "metadata": {},
   "outputs": [
    {
     "data": {
      "text/plain": [
       "'데이터프레임 인덱싱과 슬라이싱'"
      ]
     },
     "execution_count": 1,
     "metadata": {},
     "output_type": "execute_result"
    }
   ],
   "source": [
    "\"\"\"데이터프레임 인덱싱과 슬라이싱\"\"\""
   ]
  },
  {
   "cell_type": "code",
   "execution_count": 14,
   "metadata": {},
   "outputs": [
    {
     "data": {
      "text/html": [
       "<div>\n",
       "<style scoped>\n",
       "    .dataframe tbody tr th:only-of-type {\n",
       "        vertical-align: middle;\n",
       "    }\n",
       "\n",
       "    .dataframe tbody tr th {\n",
       "        vertical-align: top;\n",
       "    }\n",
       "\n",
       "    .dataframe thead th {\n",
       "        text-align: right;\n",
       "    }\n",
       "</style>\n",
       "<table border=\"1\" class=\"dataframe\">\n",
       "  <thead>\n",
       "    <tr style=\"text-align: right;\">\n",
       "      <th></th>\n",
       "      <th>종가</th>\n",
       "      <th>PER</th>\n",
       "      <th>PBR</th>\n",
       "    </tr>\n",
       "  </thead>\n",
       "  <tbody>\n",
       "    <tr>\n",
       "      <th>Naver</th>\n",
       "      <td>157000</td>\n",
       "      <td>39.88</td>\n",
       "      <td>4.38</td>\n",
       "    </tr>\n",
       "    <tr>\n",
       "      <th>삼성전자</th>\n",
       "      <td>51300</td>\n",
       "      <td>8.52</td>\n",
       "      <td>1.45</td>\n",
       "    </tr>\n",
       "    <tr>\n",
       "      <th>LG전자</th>\n",
       "      <td>68800</td>\n",
       "      <td>10.03</td>\n",
       "      <td>0.87</td>\n",
       "    </tr>\n",
       "    <tr>\n",
       "      <th>카카오</th>\n",
       "      <td>140000</td>\n",
       "      <td>228.38</td>\n",
       "      <td>2.16</td>\n",
       "    </tr>\n",
       "  </tbody>\n",
       "</table>\n",
       "</div>"
      ],
      "text/plain": [
       "           종가     PER   PBR\n",
       "Naver  157000   39.88  4.38\n",
       "삼성전자    51300    8.52  1.45\n",
       "LG전자    68800   10.03  0.87\n",
       "카카오    140000  228.38  2.16"
      ]
     },
     "execution_count": 14,
     "metadata": {},
     "output_type": "execute_result"
    }
   ],
   "source": [
    "\"\"\"데이터프레임(판다스에는 시리즈와 데이터프레임 자료구조가 있음)\n",
    "    -2차원 데이터를 효과적으로 표현한 판다스 자료구조\n",
    "    -(저번수업 자료)\"\"\"\n",
    "\n",
    "from pandas import DataFrame\n",
    "\n",
    "data = [\n",
    "    [157000, 39.88, 4.38],\n",
    "    [51300, 8.52, 1.45],\n",
    "    [68800, 10.03, 0.87],\n",
    "    [140000, 228.38, 2.16]\n",
    "]\n",
    "\n",
    "index = ['Naver', '삼성전자', 'LG전자', '카카오']\n",
    "columns = ['종가', 'PER', 'PBR']\n",
    "df = DataFrame(data=data, index=index, columns=columns)\n",
    "\n",
    "df"
   ]
  },
  {
   "cell_type": "code",
   "execution_count": 5,
   "metadata": {},
   "outputs": [
    {
     "data": {
      "text/plain": [
       "Naver    157000\n",
       "삼성전자      51300\n",
       "LG전자      68800\n",
       "카카오      140000\n",
       "Name: 종가, dtype: int64"
      ]
     },
     "execution_count": 5,
     "metadata": {},
     "output_type": "execute_result"
    }
   ],
   "source": [
    "\"\"\"컬럼 선택\n",
    "    -대괄호['컬럼명']을 통해서 단일 컬럼 선택 가능\n",
    "        -df['종가']\n",
    "        -컬럼을 표현하는 시리즈 타입의 객체\n",
    "            -index는 회사 이름\n",
    "            -value는 종가\"\"\"\n",
    "\n",
    "from pandas import DataFrame\n",
    "\n",
    "data = [\n",
    "    [157000, 39.88, 4.38],\n",
    "    [51300, 8.52, 1.45],\n",
    "    [68800, 10.03, 0.87],\n",
    "    [140000, 228.38, 2.16]\n",
    "]\n",
    "\n",
    "index = ['Naver', '삼성전자', 'LG전자', '카카오']\n",
    "columns = ['종가', 'PER', 'PBR']\n",
    "df = DataFrame(data=data, index=index, columns=columns)\n",
    "\n",
    "df['종가']"
   ]
  },
  {
   "cell_type": "code",
   "execution_count": 7,
   "metadata": {},
   "outputs": [
    {
     "data": {
      "text/html": [
       "<div>\n",
       "<style scoped>\n",
       "    .dataframe tbody tr th:only-of-type {\n",
       "        vertical-align: middle;\n",
       "    }\n",
       "\n",
       "    .dataframe tbody tr th {\n",
       "        vertical-align: top;\n",
       "    }\n",
       "\n",
       "    .dataframe thead th {\n",
       "        text-align: right;\n",
       "    }\n",
       "</style>\n",
       "<table border=\"1\" class=\"dataframe\">\n",
       "  <thead>\n",
       "    <tr style=\"text-align: right;\">\n",
       "      <th></th>\n",
       "      <th>PER</th>\n",
       "      <th>PBR</th>\n",
       "    </tr>\n",
       "  </thead>\n",
       "  <tbody>\n",
       "    <tr>\n",
       "      <th>Naver</th>\n",
       "      <td>39.88</td>\n",
       "      <td>4.38</td>\n",
       "    </tr>\n",
       "    <tr>\n",
       "      <th>삼성전자</th>\n",
       "      <td>8.52</td>\n",
       "      <td>1.45</td>\n",
       "    </tr>\n",
       "    <tr>\n",
       "      <th>LG전자</th>\n",
       "      <td>10.03</td>\n",
       "      <td>0.87</td>\n",
       "    </tr>\n",
       "    <tr>\n",
       "      <th>카카오</th>\n",
       "      <td>228.38</td>\n",
       "      <td>2.16</td>\n",
       "    </tr>\n",
       "  </tbody>\n",
       "</table>\n",
       "</div>"
      ],
      "text/plain": [
       "          PER   PBR\n",
       "Naver   39.88  4.38\n",
       "삼성전자     8.52  1.45\n",
       "LG전자    10.03  0.87\n",
       "카카오    228.38  2.16"
      ]
     },
     "execution_count": 7,
     "metadata": {},
     "output_type": "execute_result"
    }
   ],
   "source": [
    "\"\"\"멀티 컬럼 선택\n",
    "- 컬럼을 리스트로 구성함한 후 인덱싱 기호에 리스트를 전달\n",
    "    -df[['컬럼명1', '컬럼명2']]\"\"\"\n",
    "\n",
    "from pandas import DataFrame\n",
    "\n",
    "data = [\n",
    "    [157000, 39.88, 4.38],\n",
    "    [51300, 8.52, 1.45],\n",
    "    [68800, 10.03, 0.87],\n",
    "    [140000, 228.38, 2.16]\n",
    "]\n",
    "\n",
    "index = ['Naver', '삼성전자', 'LG전자', '카카오']\n",
    "columns = ['종가', 'PER', 'PBR']\n",
    "df = DataFrame(data=data, index=index, columns=columns)\n",
    "\n",
    "df[['PER', 'PBR']]"
   ]
  },
  {
   "cell_type": "code",
   "execution_count": 10,
   "metadata": {},
   "outputs": [
    {
     "data": {
      "text/plain": [
       "종가     51300.00\n",
       "PER        8.52\n",
       "PBR        1.45\n",
       "Name: 삼성전자, dtype: float64"
      ]
     },
     "execution_count": 10,
     "metadata": {},
     "output_type": "execute_result"
    }
   ],
   "source": [
    "\"\"\"로우선택(1/2)\n",
    "-데이터프레임에서 로우(row)를 선택할 떄는 iloc나 loc 속성을 사용\n",
    "loc = 인덱스를 사용해서 로우를 선택\n",
    "iloc = 행번호를 사용해서 로우를 선택\n",
    "\"\"\"\n",
    "\n",
    "from pandas import DataFrame\n",
    "\n",
    "data = [\n",
    "    [157000, 39.88, 4.38],\n",
    "    [51300, 8.52, 1.45],\n",
    "    [68800, 10.03, 0.87],\n",
    "    [140000, 228.38, 2.16]\n",
    "]\n",
    "\n",
    "index = ['Naver', '삼성전자', 'LG전자', '카카오']\n",
    "columns = ['종가', 'PER', 'PBR']\n",
    "df = DataFrame(data=data, index=index, columns=columns)\n",
    "\n",
    "df.iloc[1]\n"
   ]
  },
  {
   "cell_type": "code",
   "execution_count": 9,
   "metadata": {},
   "outputs": [
    {
     "data": {
      "text/plain": [
       "종가     51300.00\n",
       "PER        8.52\n",
       "PBR        1.45\n",
       "Name: 삼성전자, dtype: float64"
      ]
     },
     "execution_count": 9,
     "metadata": {},
     "output_type": "execute_result"
    }
   ],
   "source": [
    "df.loc['삼성전자']"
   ]
  },
  {
   "cell_type": "code",
   "execution_count": 11,
   "metadata": {},
   "outputs": [
    {
     "data": {
      "text/plain": [
       "\"로우선택(2/2)\\n-df.iloc[행번호]\\n-df.loc['인덱스']\\n\""
      ]
     },
     "execution_count": 11,
     "metadata": {},
     "output_type": "execute_result"
    }
   ],
   "source": [
    "\"\"\"로우선택(2/2)\n",
    "-df.iloc[행번호]\n",
    "-df.loc['인덱스']\n",
    "\"\"\"\n"
   ]
  },
  {
   "cell_type": "code",
   "execution_count": 12,
   "metadata": {},
   "outputs": [
    {
     "data": {
      "text/html": [
       "<div>\n",
       "<style scoped>\n",
       "    .dataframe tbody tr th:only-of-type {\n",
       "        vertical-align: middle;\n",
       "    }\n",
       "\n",
       "    .dataframe tbody tr th {\n",
       "        vertical-align: top;\n",
       "    }\n",
       "\n",
       "    .dataframe thead th {\n",
       "        text-align: right;\n",
       "    }\n",
       "</style>\n",
       "<table border=\"1\" class=\"dataframe\">\n",
       "  <thead>\n",
       "    <tr style=\"text-align: right;\">\n",
       "      <th></th>\n",
       "      <th>종가</th>\n",
       "      <th>PER</th>\n",
       "      <th>PBR</th>\n",
       "    </tr>\n",
       "  </thead>\n",
       "  <tbody>\n",
       "    <tr>\n",
       "      <th>Naver</th>\n",
       "      <td>157000</td>\n",
       "      <td>39.88</td>\n",
       "      <td>4.38</td>\n",
       "    </tr>\n",
       "    <tr>\n",
       "      <th>LG전자</th>\n",
       "      <td>68800</td>\n",
       "      <td>10.03</td>\n",
       "      <td>0.87</td>\n",
       "    </tr>\n",
       "  </tbody>\n",
       "</table>\n",
       "</div>"
      ],
      "text/plain": [
       "           종가    PER   PBR\n",
       "Naver  157000  39.88  4.38\n",
       "LG전자    68800  10.03  0.87"
      ]
     },
     "execution_count": 12,
     "metadata": {},
     "output_type": "execute_result"
    }
   ],
   "source": [
    "\"\"\"멀티 로우 선택\n",
    "-리스트로 행번호 또는 인덱스를 표현하고 이를 iloc나 loc 속성을 사용\n",
    "-df.iloc[[0,1]]\n",
    "-df.loc[['인덱스1', '인덱스2']]\n",
    "\"\"\"\n",
    "df.iloc[[0,2]]\n"
   ]
  },
  {
   "cell_type": "code",
   "execution_count": 13,
   "metadata": {},
   "outputs": [
    {
     "data": {
      "text/html": [
       "<div>\n",
       "<style scoped>\n",
       "    .dataframe tbody tr th:only-of-type {\n",
       "        vertical-align: middle;\n",
       "    }\n",
       "\n",
       "    .dataframe tbody tr th {\n",
       "        vertical-align: top;\n",
       "    }\n",
       "\n",
       "    .dataframe thead th {\n",
       "        text-align: right;\n",
       "    }\n",
       "</style>\n",
       "<table border=\"1\" class=\"dataframe\">\n",
       "  <thead>\n",
       "    <tr style=\"text-align: right;\">\n",
       "      <th></th>\n",
       "      <th>종가</th>\n",
       "      <th>PER</th>\n",
       "      <th>PBR</th>\n",
       "    </tr>\n",
       "  </thead>\n",
       "  <tbody>\n",
       "    <tr>\n",
       "      <th>Naver</th>\n",
       "      <td>157000</td>\n",
       "      <td>39.88</td>\n",
       "      <td>4.38</td>\n",
       "    </tr>\n",
       "    <tr>\n",
       "      <th>LG전자</th>\n",
       "      <td>68800</td>\n",
       "      <td>10.03</td>\n",
       "      <td>0.87</td>\n",
       "    </tr>\n",
       "  </tbody>\n",
       "</table>\n",
       "</div>"
      ],
      "text/plain": [
       "           종가    PER   PBR\n",
       "Naver  157000  39.88  4.38\n",
       "LG전자    68800  10.03  0.87"
      ]
     },
     "execution_count": 13,
     "metadata": {},
     "output_type": "execute_result"
    }
   ],
   "source": [
    "df.loc[['Naver','LG전자']]"
   ]
  },
  {
   "cell_type": "code",
   "execution_count": 15,
   "metadata": {},
   "outputs": [
    {
     "data": {
      "text/html": [
       "<div>\n",
       "<style scoped>\n",
       "    .dataframe tbody tr th:only-of-type {\n",
       "        vertical-align: middle;\n",
       "    }\n",
       "\n",
       "    .dataframe tbody tr th {\n",
       "        vertical-align: top;\n",
       "    }\n",
       "\n",
       "    .dataframe thead th {\n",
       "        text-align: right;\n",
       "    }\n",
       "</style>\n",
       "<table border=\"1\" class=\"dataframe\">\n",
       "  <thead>\n",
       "    <tr style=\"text-align: right;\">\n",
       "      <th></th>\n",
       "      <th>종가</th>\n",
       "      <th>PER</th>\n",
       "      <th>PBR</th>\n",
       "    </tr>\n",
       "  </thead>\n",
       "  <tbody>\n",
       "    <tr>\n",
       "      <th>Naver</th>\n",
       "      <td>157000</td>\n",
       "      <td>39.88</td>\n",
       "      <td>4.38</td>\n",
       "    </tr>\n",
       "    <tr>\n",
       "      <th>삼성전자</th>\n",
       "      <td>51300</td>\n",
       "      <td>8.52</td>\n",
       "      <td>1.45</td>\n",
       "    </tr>\n",
       "  </tbody>\n",
       "</table>\n",
       "</div>"
      ],
      "text/plain": [
       "           종가    PER   PBR\n",
       "Naver  157000  39.88  4.38\n",
       "삼성전자    51300   8.52  1.45"
      ]
     },
     "execution_count": 15,
     "metadata": {},
     "output_type": "execute_result"
    }
   ],
   "source": [
    "\"\"\"로우 슬라이싱\n",
    "-iloc,loc 속성을 사용하여 슬라이싱\"\"\"\n",
    "\n",
    "df.iloc[0:2]"
   ]
  },
  {
   "cell_type": "code",
   "execution_count": 16,
   "metadata": {},
   "outputs": [
    {
     "data": {
      "text/html": [
       "<div>\n",
       "<style scoped>\n",
       "    .dataframe tbody tr th:only-of-type {\n",
       "        vertical-align: middle;\n",
       "    }\n",
       "\n",
       "    .dataframe tbody tr th {\n",
       "        vertical-align: top;\n",
       "    }\n",
       "\n",
       "    .dataframe thead th {\n",
       "        text-align: right;\n",
       "    }\n",
       "</style>\n",
       "<table border=\"1\" class=\"dataframe\">\n",
       "  <thead>\n",
       "    <tr style=\"text-align: right;\">\n",
       "      <th></th>\n",
       "      <th>종가</th>\n",
       "      <th>PER</th>\n",
       "      <th>PBR</th>\n",
       "    </tr>\n",
       "  </thead>\n",
       "  <tbody>\n",
       "    <tr>\n",
       "      <th>Naver</th>\n",
       "      <td>157000</td>\n",
       "      <td>39.88</td>\n",
       "      <td>4.38</td>\n",
       "    </tr>\n",
       "    <tr>\n",
       "      <th>삼성전자</th>\n",
       "      <td>51300</td>\n",
       "      <td>8.52</td>\n",
       "      <td>1.45</td>\n",
       "    </tr>\n",
       "  </tbody>\n",
       "</table>\n",
       "</div>"
      ],
      "text/plain": [
       "           종가    PER   PBR\n",
       "Naver  157000  39.88  4.38\n",
       "삼성전자    51300   8.52  1.45"
      ]
     },
     "execution_count": 16,
     "metadata": {},
     "output_type": "execute_result"
    }
   ],
   "source": [
    "df.loc['Naver':'삼성전자']"
   ]
  },
  {
   "cell_type": "code",
   "execution_count": null,
   "metadata": {},
   "outputs": [],
   "source": []
  }
 ],
 "metadata": {
  "kernelspec": {
   "display_name": "study",
   "language": "python",
   "name": "python3"
  },
  "language_info": {
   "codemirror_mode": {
    "name": "ipython",
    "version": 3
   },
   "file_extension": ".py",
   "mimetype": "text/x-python",
   "name": "python",
   "nbconvert_exporter": "python",
   "pygments_lexer": "ipython3",
   "version": "3.8.0"
  }
 },
 "nbformat": 4,
 "nbformat_minor": 2
}
