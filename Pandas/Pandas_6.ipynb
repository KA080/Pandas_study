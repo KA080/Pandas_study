{
 "cells": [
  {
   "cell_type": "code",
   "execution_count": 1,
   "metadata": {},
   "outputs": [
    {
     "data": {
      "text/plain": [
       "'판다스 데이터프레임 생성'"
      ]
     },
     "execution_count": 1,
     "metadata": {},
     "output_type": "execute_result"
    }
   ],
   "source": [
    "\"\"\"판다스 데이터프레임 생성\"\"\""
   ]
  },
  {
   "cell_type": "code",
   "execution_count": 3,
   "metadata": {},
   "outputs": [
    {
     "name": "stdout",
     "output_type": "stream",
     "text": [
      "           종가     PER   PBR\n",
      "Naver  157000   39.88  4.38\n",
      "삼성전자    51300    8.52  1.45\n",
      "LG전자    68800   10.03  0.87\n",
      "카카오    140000  228.38  2.16\n"
     ]
    }
   ],
   "source": [
    "'''DataFrame 생성(1/3)\n",
    "   -2차원 표에서 컬럼 단위로 데이터를 표현\n",
    "     -컬럼명을 딕셔너리의 key로 데이터는 딕셔너리의 values로 사용'''\n",
    "\n",
    "from pandas import DataFrame\n",
    "\n",
    "data = {\n",
    "    \"종가\" : [157000, 51300, 68800, 140000],\n",
    "    \"PER\" : [39.88, 8.52, 10.03, 228.38],\n",
    "    \"PBR\" : [4.38, 1.45, 0.87, 2.16]\n",
    "}\n",
    "\n",
    "index = ['Naver', '삼성전자', 'LG전자', '카카오']\n",
    "\n",
    "df = DataFrame(data, index)\n",
    "print(df)"
   ]
  },
  {
   "cell_type": "code",
   "execution_count": 4,
   "metadata": {},
   "outputs": [
    {
     "name": "stdout",
     "output_type": "stream",
     "text": [
      "           종가     PER   PBR\n",
      "Naver  157000   39.88  4.38\n",
      "삼성전자    51300    8.52  1.45\n",
      "LG전자    68800   10.03  0.87\n",
      "카카오    140000  228.38  2.16\n"
     ]
    }
   ],
   "source": [
    "'''DataFrame 생성(2/3)\n",
    "   -2차원 표에서 로우 단위로 데이터를 리스트로 표현\n",
    "     -data,index, columns를 각각 리스트로 표현'''\n",
    "\n",
    "from pandas import DataFrame\n",
    "\n",
    "data = [\n",
    "    [157000, 39.88, 4.38],\n",
    "    [51300, 8.52, 1.45],\n",
    "    [68800, 10.03, 0.87],\n",
    "    [140000, 228.38, 2.16]\n",
    "]\n",
    "\n",
    "index = ['Naver', '삼성전자', 'LG전자', '카카오']\n",
    "columns = ['종가', 'PER', 'PBR']\n",
    "df = DataFrame(data=data, index=index, columns=columns)\n",
    "print(df)"
   ]
  },
  {
   "cell_type": "code",
   "execution_count": 5,
   "metadata": {},
   "outputs": [
    {
     "name": "stdout",
     "output_type": "stream",
     "text": [
      "           종가     PER   PBR\n",
      "Naver  157000   39.88  4.38\n",
      "삼성전자    51300    8.52  1.45\n",
      "LG전자    68800   10.03  0.87\n",
      "카카오    140000  228.38  2.16\n"
     ]
    }
   ],
   "source": [
    "'''DataFrame 생성(3/3)\n",
    "   -2차원 표에서 로우 단위로 데이터를 딕셔너리로 표현'''\n",
    "\n",
    "from pandas import DataFrame\n",
    "\n",
    "data = [\n",
    "    {\"종가\": 157000, \"PER\": 39.88, \"PBR\": 4.38},\n",
    "    {\"종가\": 51300, \"PER\": 8.52, \"PBR\": 1.45},\n",
    "    {\"종가\": 68800, \"PER\": 10.03, \"PBR\": 0.87},\n",
    "    {\"종가\": 140000, \"PER\": 228.38, \"PBR\": 2.16}\n",
    "]\n",
    "\n",
    "index = ['Naver','삼성전자', 'LG전자', '카카오']\n",
    "df = DataFrame(data=data, index=index)\n",
    "print(df)"
   ]
  },
  {
   "cell_type": "code",
   "execution_count": 13,
   "metadata": {},
   "outputs": [
    {
     "name": "stdout",
     "output_type": "stream",
     "text": [
      "       시가   고가   저가   종가\n",
      "비트코인  980  990  920  930\n",
      "리플    200  300  180  180\n",
      "이더리움  300  500  300  400\n"
     ]
    }
   ],
   "source": [
    "\"\"\"연습문제 첫번째방법(컬럼으로 리스트표현)\"\"\"\n",
    "\n",
    "from pandas import DataFrame\n",
    "\n",
    "data = {\n",
    "    '시가' : [980, 200, 300],\n",
    "    '고가' : [990, 300, 500],\n",
    "    '저가' : [920, 180, 300],\n",
    "    '종가' : [930, 180, 400]\n",
    "}\n",
    "\n",
    "index = ['비트코인', '리플', '이더리움']\n",
    "\n",
    "df = DataFrame(data, index)\n",
    "print(df)"
   ]
  },
  {
   "cell_type": "code",
   "execution_count": 12,
   "metadata": {},
   "outputs": [
    {
     "name": "stdout",
     "output_type": "stream",
     "text": [
      "       시가   고가   저가   종가\n",
      "비트코인  980  990  920  930\n",
      "리플    200  300  180  180\n",
      "이더리움  300  500  300  400\n"
     ]
    }
   ],
   "source": [
    "\"\"\"연습문제 두번째방법(로우단위로 표현)\"\"\"\n",
    "\n",
    "from pandas import DataFrame\n",
    "\n",
    "data = [\n",
    "    [980, 990, 920, 930],\n",
    "    [200, 300, 180, 180],\n",
    "    [300, 500, 300, 400]\n",
    "]\n",
    "\n",
    "index = ['비트코인', '리플', '이더리움']\n",
    "columns = ['시가', '고가', '저가','종가']\n",
    "df = DataFrame(data=data, index=index, columns=columns)\n",
    "print(df)"
   ]
  },
  {
   "cell_type": "code",
   "execution_count": null,
   "metadata": {},
   "outputs": [],
   "source": []
  }
 ],
 "metadata": {
  "kernelspec": {
   "display_name": "study",
   "language": "python",
   "name": "python3"
  },
  "language_info": {
   "codemirror_mode": {
    "name": "ipython",
    "version": 3
   },
   "file_extension": ".py",
   "mimetype": "text/x-python",
   "name": "python",
   "nbconvert_exporter": "python",
   "pygments_lexer": "ipython3",
   "version": "3.8.0"
  }
 },
 "nbformat": 4,
 "nbformat_minor": 2
}
